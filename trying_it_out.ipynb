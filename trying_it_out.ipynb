{
  "nbformat": 4,
  "nbformat_minor": 0,
  "metadata": {
    "colab": {
      "provenance": [],
      "authorship_tag": "ABX9TyPKAR6gm0FjEnPPNwY5acXb",
      "include_colab_link": true
    },
    "kernelspec": {
      "name": "python3",
      "display_name": "Python 3"
    },
    "language_info": {
      "name": "python"
    }
  },
  "cells": [
    {
      "cell_type": "markdown",
      "metadata": {
        "id": "view-in-github",
        "colab_type": "text"
      },
      "source": [
        "<a href=\"https://colab.research.google.com/github/vinodgaitonde/Teaching-Python/blob/main/trying_it_out.ipynb\" target=\"_parent\"><img src=\"https://colab.research.google.com/assets/colab-badge.svg\" alt=\"Open In Colab\"/></a>"
      ]
    },
    {
      "cell_type": "code",
      "execution_count": 1,
      "metadata": {
        "colab": {
          "base_uri": "https://localhost:8080/"
        },
        "id": "wq_hycSXDNHn",
        "outputId": "fdd214fd-aa30-457f-f3f6-50d8e4307853"
      },
      "outputs": [
        {
          "output_type": "stream",
          "name": "stdout",
          "text": [
            "Hari Om!\n"
          ]
        }
      ],
      "source": [
        "import numpy as np\n",
        "\n",
        "print (\"Hari Om!\")\n",
        ""
      ]
    },
    {
      "cell_type": "code",
      "source": [
        "# Printing variables\n",
        "name = \"Vinod\"\n",
        "age = 47\n",
        "print(\"Name:\", name)\n",
        "print(\"Age:\", age)"
      ],
      "metadata": {
        "colab": {
          "base_uri": "https://localhost:8080/"
        },
        "id": "dGMUgGfcGVm-",
        "outputId": "1e54fb53-e372-4c3d-ad3f-cd686b6dec11"
      },
      "execution_count": 2,
      "outputs": [
        {
          "output_type": "stream",
          "name": "stdout",
          "text": [
            "Name: Vinod\n",
            "Age: 47\n"
          ]
        }
      ]
    },
    {
      "cell_type": "code",
      "source": [
        "x=11\n",
        "y=14\n",
        "z=x+y\n",
        "x\n",
        "print (z)\n",
        "y\n"
      ],
      "metadata": {
        "colab": {
          "base_uri": "https://localhost:8080/"
        },
        "id": "75UIsHF9Guci",
        "outputId": "c7e09874-2368-46ec-9a2f-60ab9ef0fe36"
      },
      "execution_count": 8,
      "outputs": [
        {
          "output_type": "stream",
          "name": "stdout",
          "text": [
            "25\n"
          ]
        },
        {
          "output_type": "execute_result",
          "data": {
            "text/plain": [
              "14"
            ]
          },
          "metadata": {},
          "execution_count": 8
        }
      ]
    },
    {
      "cell_type": "code",
      "source": [
        "5+4\n",
        "print(1-3)\n"
      ],
      "metadata": {
        "colab": {
          "base_uri": "https://localhost:8080/"
        },
        "id": "bkX8tc80HVX_",
        "outputId": "c4948e13-4f23-4cc0-e314-b62c6fee3083"
      },
      "execution_count": 9,
      "outputs": [
        {
          "output_type": "stream",
          "name": "stdout",
          "text": [
            "-2\n"
          ]
        }
      ]
    }
  ]
}